{
  "nbformat": 4,
  "nbformat_minor": 0,
  "metadata": {
    "colab": {
      "name": "LeNet-5 Pytorch (CNN-Classic-Models).ipynb",
      "provenance": [],
      "collapsed_sections": [],
      "authorship_tag": "ABX9TyMiNrmQPt31URflJia+Tpmv",
      "include_colab_link": true
    },
    "kernelspec": {
      "name": "python3",
      "display_name": "Python 3"
    },
    "accelerator": "GPU"
  },
  "cells": [
    {
      "cell_type": "markdown",
      "metadata": {
        "id": "view-in-github",
        "colab_type": "text"
      },
      "source": [
        "<a href=\"https://colab.research.google.com/github/zaidsallam10/Computer_Vision/blob/main/LeNet_5_Pytorch_(CNN_Classic_Models).ipynb\" target=\"_parent\"><img src=\"https://colab.research.google.com/assets/colab-badge.svg\" alt=\"Open In Colab\"/></a>"
      ]
    },
    {
      "cell_type": "code",
      "metadata": {
        "id": "y-YtF2QNWCk9"
      },
      "source": [
        "import numpy as np\n",
        "from datetime import datetime \n",
        "import torch\n",
        "import torch.nn as nn\n",
        "import torch.nn.functional as F\n",
        "from torch.utils.data import DataLoader\n",
        "from torchvision import datasets, transforms\n",
        "import matplotlib.pyplot as plt\n",
        "import tqdm\n",
        "# check device\n",
        "DEVICE = 'cuda' if torch.cuda.is_available() else 'cpu'\n"
      ],
      "execution_count": 8,
      "outputs": []
    },
    {
      "cell_type": "code",
      "metadata": {
        "id": "uQD9s6nVgmM6"
      },
      "source": [
        "# Initializtion\n",
        "num_epochs=15\n",
        "batch_size=64\n",
        "learning_rate=0.001\n",
        "target=10\n",
        "input_size=32\n",
        "random_size = 42\n",
        "\n",
        "# Datapreperation\n",
        "trasform=transforms.Compose([transforms.Resize((32,32)),transforms.ToTensor()])\n",
        "train_set=datasets.MNIST(root='mnist_dataset',train=True,transform=trasform,download=True)\n",
        "test_set=datasets.MNIST(root='mnist_dataset',train=False,transform=trasform,download=True)\n",
        "\n",
        "train_loader=DataLoader(dataset=train_set,shuffle=True,batch_size=batch_size)\n",
        "test_loader=DataLoader(dataset=test_set,shuffle=True,batch_size=batch_size)"
      ],
      "execution_count": 17,
      "outputs": []
    },
    {
      "cell_type": "code",
      "metadata": {
        "id": "3bTsvBqDgcHe"
      },
      "source": [
        "class LeNet(nn.Module):\n",
        "  def __init__(self):\n",
        "    super().__init__()\n",
        "    self.relu=nn.ReLU()\n",
        "    self.avg_pool=nn.AvgPool2d(kernel_size=(2,2),stride=(2,2))\n",
        "    self.conv1=nn.Conv2d(in_channels=1,out_channels=6,kernel_size=(5,5),padding=0,stride=(1,1))\n",
        "    self.conv2=nn.Conv2d(in_channels=6,out_channels=16,stride=(1,1),kernel_size=(5,5),padding=0)\n",
        "    self.conv3=nn.Conv2d(in_channels=16,out_channels=120,stride=(1,1),kernel_size=(5,5),padding=0)\n",
        "    self.fn1=nn.Linear(120,84)\n",
        "    self.fn2=nn.Linear(84,10)\n",
        "  def forward(self,x):\n",
        "    # print(\"x=\",x.shape)\n",
        "    x=self.relu(self.conv1(x))\n",
        "    # print(\"x=\",x.shape)\n",
        "    x=self.avg_pool(x)\n",
        "    # print(\"x=\",x.shape)\n",
        "    x=self.relu(self.conv2(x))\n",
        "    # print(\"x=\",x.shape)\n",
        "    x=self.avg_pool(x)\n",
        "    # print(\"x=\",x.shape)\n",
        "    x=self.relu(self.conv3(x))\n",
        "    # print(\"x=\",x.shape)\n",
        "    x=x.reshape(x.shape[0],-1)\n",
        "    x=self.relu(self.fn1(x))\n",
        "    # print(\"x=\",x.shape)\n",
        "    x=self.fn2(x)\n",
        "    # print(\"x=\",x.shape)\n",
        "    return x\n",
        "\n",
        "\n",
        "\n",
        "\n",
        "# x=torch.rand((10,1,32,32))\n",
        "# ss=LeNet()\n",
        "# ss(x)"
      ],
      "execution_count": 10,
      "outputs": []
    },
    {
      "cell_type": "code",
      "metadata": {
        "id": "fIIbNmTTiIef"
      },
      "source": [
        "# optimizer & loss\n",
        "model=LeNet()\n",
        "optimizer=torch.optim.Adam(params=model.parameters(),lr=learning_rate)\n",
        "criteration=nn.CrossEntropyLoss()"
      ],
      "execution_count": 11,
      "outputs": []
    },
    {
      "cell_type": "code",
      "metadata": {
        "id": "t3rjhBJ_r4xQ"
      },
      "source": [
        "def plot_losses(train_losses, valid_losses):\n",
        "    '''\n",
        "    Function for plotting training and validation losses\n",
        "    '''\n",
        "    \n",
        "    # temporarily change the style of the plots to seaborn \n",
        "    plt.style.use('seaborn')\n",
        "\n",
        "    train_losses = np.array(train_losses) \n",
        "    valid_losses = np.array(valid_losses)\n",
        "\n",
        "    fig, ax = plt.subplots(figsize = (8, 4.5))\n",
        "\n",
        "    ax.plot(train_losses, color='blue', label='Training loss') \n",
        "    ax.plot(valid_losses, color='red', label='Validation loss')\n",
        "    ax.set(title=\"Loss over epochs\", \n",
        "            xlabel='Epoch',\n",
        "            ylabel='Loss') \n",
        "    ax.legend()\n",
        "    fig.show()\n"
      ],
      "execution_count": 12,
      "outputs": []
    },
    {
      "cell_type": "code",
      "metadata": {
        "id": "0iIZylBaisy3"
      },
      "source": [
        "# Training\n",
        "def train_model(model,epochs,optimizer,criteration,train_loader,test_loader,device):\n",
        "  training_losses=[]\n",
        "  testing_losses=[]\n",
        "  for epoch in (range(epochs)):\n",
        "    print('epoch=',epoch)\n",
        "   \n",
        "    training_running_loss=0\n",
        "    test_running_loss=0\n",
        "    # Training \n",
        "    model.train()\n",
        "    for X,y_true in (train_loader):\n",
        "        optimizer.zero_grad()\n",
        "       \n",
        "        y_hat = model(X)\n",
        "        loss=criteration(y_hat,y_true)\n",
        "        training_running_loss+=loss.item() * X.size(0)\n",
        "        loss.backward()\n",
        "        optimizer.step()\n",
        "    training_losses.append(training_running_loss/len(train_loader.dataset))\n",
        "    print(\"epoch {} training loss is = {}\".format(epoch,(training_running_loss/len(train_loader.dataset))*100))\n",
        "\n",
        "\n",
        "    # Testing \n",
        "    model.eval()\n",
        "    for X,y_test in (test_loader):\n",
        "      y_yat=model(X)\n",
        "      loss=criteration(y_yat,y_test)\n",
        "      test_running_loss+=loss.item() * X.size(0)\n",
        "    testing_losses.append(test_running_loss/(len(test_loader.dataset)))\n",
        "    print(\"epoch {} testing loss is={}\".format(epoch,test_running_loss/(len(test_loader.dataset))))\n",
        "  plot_losses(training_losses,testing_losses)  "
      ],
      "execution_count": 15,
      "outputs": []
    },
    {
      "cell_type": "code",
      "metadata": {
        "id": "oEDPkiEGkR_v",
        "outputId": "c818aaf3-49ea-4e82-c494-efe3a22fd7fb",
        "colab": {
          "base_uri": "https://localhost:8080/",
          "height": 1000
        }
      },
      "source": [
        "result=train_model(model,num_epochs,optimizer,criteration,train_loader,test_loader,DEVICE)"
      ],
      "execution_count": 18,
      "outputs": [
        {
          "output_type": "stream",
          "text": [
            "epoch= 0\n",
            "epoch 0 training loss is = 3.232653414905071\n",
            "epoch 0 testing loss is=0.04449647623486817\n",
            "epoch= 1\n",
            "epoch 1 training loss is = 2.7065126071296013\n",
            "epoch 1 testing loss is=0.043287466855719686\n",
            "epoch= 2\n",
            "epoch 2 training loss is = 2.4825576372180755\n",
            "epoch 2 testing loss is=0.03826142318621278\n",
            "epoch= 3\n",
            "epoch 3 training loss is = 2.088180976882577\n",
            "epoch 3 testing loss is=0.04189329609526321\n",
            "epoch= 4\n",
            "epoch 4 training loss is = 1.981911063514805\n",
            "epoch 4 testing loss is=0.04234952579252422\n",
            "epoch= 5\n",
            "epoch 5 training loss is = 1.5493963192973752\n",
            "epoch 5 testing loss is=0.04335039224885404\n",
            "epoch= 6\n",
            "epoch 6 training loss is = 1.5848547532551067\n",
            "epoch 6 testing loss is=0.0407839977581054\n",
            "epoch= 7\n",
            "epoch 7 training loss is = 1.3520732638973278\n",
            "epoch 7 testing loss is=0.03845194063363597\n",
            "epoch= 8\n",
            "epoch 8 training loss is = 1.2342063132613355\n",
            "epoch 8 testing loss is=0.04527355917240493\n",
            "epoch= 9\n",
            "epoch 9 training loss is = 0.9838128143951084\n",
            "epoch 9 testing loss is=0.03824546213898575\n",
            "epoch= 10\n",
            "epoch 10 training loss is = 1.1493014955122391\n",
            "epoch 10 testing loss is=0.04280681946044497\n",
            "epoch= 11\n",
            "epoch 11 training loss is = 1.095042625699619\n",
            "epoch 11 testing loss is=0.04320099311613012\n",
            "epoch= 12\n",
            "epoch 12 training loss is = 0.6569138759335086\n",
            "epoch 12 testing loss is=0.03657801679105032\n",
            "epoch= 13\n",
            "epoch 13 training loss is = 0.8220363861621687\n",
            "epoch 13 testing loss is=0.04078866105202105\n",
            "epoch= 14\n",
            "epoch 14 training loss is = 0.7752795332274642\n",
            "epoch 14 testing loss is=0.04414228961519002\n"
          ],
          "name": "stdout"
        },
        {
          "output_type": "display_data",
          "data": {
            "image/png": "[encoded data removed]",
            "text/plain": [
              "<Figure size 576x324 with 1 Axes>"
            ]
          },
          "metadata": {
            "tags": []
          }
        }
      ]
    },
    {
      "cell_type": "code",
      "metadata": {
        "id": "ksgIDAn__j2u",
        "outputId": "8f73da8f-2782-47ad-b953-175ef699ae12",
        "colab": {
          "base_uri": "https://localhost:8080/",
          "height": 364
        }
      },
      "source": [
        "img_id=100\n",
        "\n",
        "with torch.no_grad():\n",
        "    model.eval()\n",
        "    probs = model(test_set[img_id][0].unsqueeze(0))\n",
        "    plt.imshow(test_set[img_id][0].squeeze(0),cmap='gray_r')\n",
        "    print('prediction=',torch.argmax(probs))"
      ],
      "execution_count": 54,
      "outputs": [
        {
          "output_type": "stream",
          "text": [
            "prediction= tensor(6)\n"
          ],
          "name": "stdout"
        },
        {
          "output_type": "display_data",
          "data": {
            "image/png": "[encoded data removed]",
            "text/plain": [
              "<Figure size 576x396 with 1 Axes>"
            ]
          },
          "metadata": {
            "tags": []
          }
        }
      ]
    }
  ]
}